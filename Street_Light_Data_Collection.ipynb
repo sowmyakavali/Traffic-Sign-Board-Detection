{
  "nbformat": 4,
  "nbformat_minor": 0,
  "metadata": {
    "colab": {
      "name": "Street Light Data Collection.ipynb",
      "provenance": [],
      "include_colab_link": true
    },
    "kernelspec": {
      "name": "python3",
      "display_name": "Python 3"
    },
    "accelerator": "GPU"
  },
  "cells": [
    {
      "cell_type": "markdown",
      "metadata": {
        "id": "view-in-github",
        "colab_type": "text"
      },
      "source": [
        "<a href=\"https://colab.research.google.com/github/sowmyakavali/Traffic-Sign-Board-Detection/blob/master/Street_Light_Data_Collection.ipynb\" target=\"_parent\"><img src=\"https://colab.research.google.com/assets/colab-badge.svg\" alt=\"Open In Colab\"/></a>"
      ]
    },
    {
      "cell_type": "code",
      "metadata": {
        "id": "Gkxw5ZiXn037",
        "colab_type": "code",
        "colab": {
          "base_uri": "https://localhost:8080/",
          "height": 121
        },
        "outputId": "9618a590-2cf9-4915-c3a8-c887331417d9"
      },
      "source": [
        "from google.colab import drive\n",
        "drive.mount(\"/content/drive/\")"
      ],
      "execution_count": null,
      "outputs": [
        {
          "output_type": "stream",
          "text": [
            "Go to this URL in a browser: https://accounts.google.com/o/oauth2/auth?client_id=947318989803-6bn6qk8qdgf4n4g3pfee6491hc0brc4i.apps.googleusercontent.com&redirect_uri=urn%3aietf%3awg%3aoauth%3a2.0%3aoob&response_type=code&scope=email%20https%3a%2f%2fwww.googleapis.com%2fauth%2fdocs.test%20https%3a%2f%2fwww.googleapis.com%2fauth%2fdrive%20https%3a%2f%2fwww.googleapis.com%2fauth%2fdrive.photos.readonly%20https%3a%2f%2fwww.googleapis.com%2fauth%2fpeopleapi.readonly\n",
            "\n",
            "Enter your authorization code:\n",
            "··········\n",
            "Mounted at /content/drive/\n"
          ],
          "name": "stdout"
        }
      ]
    },
    {
      "cell_type": "code",
      "metadata": {
        "id": "gxsCUkI4oGZ0",
        "colab_type": "code",
        "colab": {
          "base_uri": "https://localhost:8080/",
          "height": 168
        },
        "outputId": "e7428460-350d-4d6e-f102-4c8a63f19aaf"
      },
      "source": [
        "import os\n",
        "os.chdir(\"/content/drive/My Drive/Colab Notebooks/Street Light Detection/\")\n",
        "os.listdir()"
      ],
      "execution_count": null,
      "outputs": [
        {
          "output_type": "execute_result",
          "data": {
            "text/plain": [
              "['class-descriptions-boxable.csv',\n",
              " 'train-annotations-bbox.csv',\n",
              " 'train-images-boxable-with-rotation.csv',\n",
              " '.ipynb_checkpoints',\n",
              " 'Street light',\n",
              " 'labels2',\n",
              " 'generate_label_map.py',\n",
              " 'rfcn_resnet101.ipynb',\n",
              " 'Street Light Detection.ipynb']"
            ]
          },
          "metadata": {
            "tags": []
          },
          "execution_count": 2
        }
      ]
    },
    {
      "cell_type": "code",
      "metadata": {
        "id": "lwt6Xp3YqaD_",
        "colab_type": "code",
        "colab": {}
      },
      "source": [
        "import matplotlib.pyplot as plt\n",
        "import cv2 as cv\n",
        "from google.colab.patches import cv2_imshow\n",
        "import pandas as pd\n",
        "import math\n",
        "from tqdm import tqdm\n",
        "\n",
        "annos = pd.read_csv(\"train-annotations-bbox.csv\")"
      ],
      "execution_count": null,
      "outputs": []
    },
    {
      "cell_type": "code",
      "metadata": {
        "id": "_aCDngIRoOh-",
        "colab_type": "code",
        "colab": {}
      },
      "source": [
        "# !wget https://storage.googleapis.com/openimages/2018_04/class-descriptions-boxable.csv\n",
        "# !wget https://storage.googleapis.com/openimages/2018_04/train/train-annotations-bbox.csv\n",
        "# !wget https://storage.googleapis.com/openimages/2018_04/train/train-images-boxable-with-rotation.csv"
      ],
      "execution_count": null,
      "outputs": []
    },
    {
      "cell_type": "code",
      "metadata": {
        "id": "15EKpvrQrDna",
        "colab_type": "code",
        "colab": {}
      },
      "source": [
        "# !python3 getDataFromOpenImages.py"
      ],
      "execution_count": null,
      "outputs": []
    },
    {
      "cell_type": "code",
      "metadata": {
        "colab_type": "code",
        "id": "p-HCaarzPPvY",
        "colab": {}
      },
      "source": [
        "# Visualize Data\n",
        "\n",
        "for i in os.listdir(\"Street light/train\")[10:12]:\n",
        "  img = cv.imread(\"Street light/train/\"+i, 1)\n",
        "  width = img.shape[1]\n",
        "  height = img.shape[0]\n",
        "  anno = annos[annos[\"ImageID\"] == i.split(\".jpg\")[0]][annos[\"LabelName\"] == \"/m/033rq4\"]\n",
        "  for i,j in anno.iterrows():\n",
        "    xmin = math.floor(j['XMin'] * width) - 100\n",
        "    ymin = math.floor(j['YMin'] * height) - 100\n",
        "    xmax = math.floor(j['XMax'] * width) - 100\n",
        "    ymax = math.floor(j['YMax'] * height) - 100\n",
        "    img = cv.rectangle(img, (xmin, ymin), (xmax, ymax), (0, 0, 255), 1)\n",
        "    img = cv.putText(img, \"Street light\", (20+xmin, 20+ymin), 1, 1, (0, 0, 255))\n",
        "  cv2_imshow(img)"
      ],
      "execution_count": null,
      "outputs": []
    },
    {
      "cell_type": "code",
      "metadata": {
        "colab_type": "code",
        "id": "yJMIFRpYpWAZ",
        "colab": {}
      },
      "source": [
        "data = pd.read_csv(\"Street light/train_labels.csv\")\n",
        "exceed = []\n",
        "for _,i in data.iterrows():\n",
        "  print(i)\n",
        "  if (i['xmin'] > i['width'] or i['xmax'] > i['width'] or i['ymin'] > i['height'] or i['ymax'] > i['height']):\n",
        "    exceed.append(i)\n",
        "print(len(exceed))"
      ],
      "execution_count": null,
      "outputs": []
    },
    {
      "cell_type": "code",
      "metadata": {
        "id": "m4-V4a52bPYe",
        "colab_type": "code",
        "colab": {}
      },
      "source": [
        "# Generate train_labels.csv\n",
        "\n",
        "from tqdm import tqdm\n",
        "\n",
        "addons = []\n",
        "objData = []\n",
        "for i in tqdm(os.listdir(\"Street light/train\")):\n",
        "  filename = i\n",
        "  img = cv.imread(\"Street light/train/\"+i, 1)\n",
        "  width = img.shape[1]\n",
        "  height = img.shape[0]\n",
        "  anno = annos[annos[\"ImageID\"] == i.split(\".jpg\")[0]][annos[\"LabelName\"] == \"/m/033rq4\"]\n",
        "  for i,j in anno.iterrows():\n",
        "    xmin = math.floor(j['XMin'] * width) - 100\n",
        "    ymin = math.floor(j['YMin'] * height) - 100\n",
        "    xmax = math.floor(j['XMax'] * width) - 100\n",
        "    ymax = math.floor(j['YMax'] * height) - 100\n",
        "    if (xmin >= width or ymin >= height or xmax > width or ymax > height):\n",
        "      print(i)\n",
        "      addons.append(i)\n",
        "    objData.append([filename, width, height, \"Street light\", xmin, ymin, xmax, ymax])\n",
        "pd.DataFrame(objData, columns = ['filename', 'width', 'height', 'class', 'xmin', 'ymin', 'xmax', 'ymax']).to_csv('Street light/train_labels.csv', index=False)"
      ],
      "execution_count": null,
      "outputs": []
    },
    {
      "cell_type": "code",
      "metadata": {
        "id": "XyirWHeHm_wz",
        "colab_type": "code",
        "colab": {}
      },
      "source": [
        "addons = []\n",
        "objData = []\n",
        "for i in tqdm(os.listdir(\"Street light/test\")):\n",
        "  filename = i\n",
        "  img = cv.imread(\"Street light/test/\"+i, 1)\n",
        "  width = img.shape[1]\n",
        "  height = img.shape[0]\n",
        "  anno = annos[annos[\"ImageID\"] == i.split(\".jpg\")[0]][annos[\"LabelName\"] == \"/m/033rq4\"]\n",
        "  for i,j in anno.iterrows():\n",
        "    xmin = math.floor(j['XMin'] * width) - 10\n",
        "    ymin = math.floor(j['YMin'] * height) - 10\n",
        "    xmax = math.floor(j['XMax'] * width) - 10\n",
        "    ymax = math.floor(j['YMax'] * height) - 10\n",
        "    if (xmin >= width or ymin >= height or xmax > width or ymax > height):\n",
        "      print(i)\n",
        "      addons.append(i)\n",
        "    objData.append([filename, width, height, \"Street light\", xmin, ymin, xmax, ymax])\n",
        "pd.DataFrame(objData, columns = ['filename', 'width', 'height', 'class', 'xmin', 'ymin', 'xmax', 'ymax']).to_csv('Street light/test_labels.csv', index=False)"
      ],
      "execution_count": null,
      "outputs": []
    },
    {
      "cell_type": "code",
      "metadata": {
        "id": "XykPnKV_nKhT",
        "colab_type": "code",
        "colab": {}
      },
      "source": [
        "# Generate valid_labels.csv\n",
        "\n",
        "addons = []\n",
        "objData = []\n",
        "weird = []\n",
        "for i in tqdm(os.listdir(\"Street light/validate\")):\n",
        "  filename = i\n",
        "  img = cv.imread(\"Street light/validate/\"+i, 1)\n",
        "  width = img.shape[1]\n",
        "  height = img.shape[0]\n",
        "  anno = annos[annos[\"ImageID\"] == i.split(\".jpg\")[0]][annos[\"LabelName\"] == \"/m/033rq4\"]\n",
        "  for i,j in anno.iterrows():\n",
        "    xmin = math.floor(j['XMin'] * width) - 10\n",
        "    ymin = math.floor(j['YMin'] * height) - 10\n",
        "    xmax = math.floor(j['XMax'] * width) - 10\n",
        "    ymax = math.floor(j['YMax'] * height) - 10\n",
        "    objData.append([filename, width, height, \"Street light\", xmin, ymin, xmax, ymax])\n",
        "pd.DataFrame(objData, columns = ['filename', 'width', 'height', 'class', 'xmin', 'ymin', 'xmax', 'ymax']).to_csv('Street light/validate_labels.csv', index=False)"
      ],
      "execution_count": null,
      "outputs": []
    }
  ]
}